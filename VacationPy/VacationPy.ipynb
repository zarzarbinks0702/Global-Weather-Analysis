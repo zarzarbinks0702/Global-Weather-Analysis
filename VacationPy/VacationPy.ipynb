{
 "cells": [
  {
   "cell_type": "markdown",
   "metadata": {},
   "source": [
    "# VacationPy"
   ]
  },
  {
   "cell_type": "code",
   "execution_count": 1,
   "metadata": {},
   "outputs": [],
   "source": [
    "# import libraries\n",
    "import matplotlib.pyplot as plt\n",
    "import pandas as pd\n",
    "import numpy as np\n",
    "import requests\n",
    "import gmaps\n",
    "import os\n",
    "import json\n",
    "\n",
    "# Import API key\n",
    "from config import google_apikey"
   ]
  },
  {
   "cell_type": "code",
   "execution_count": 3,
   "metadata": {
    "scrolled": true
   },
   "outputs": [
    {
     "data": {
      "text/html": [
       "<div>\n",
       "<style scoped>\n",
       "    .dataframe tbody tr th:only-of-type {\n",
       "        vertical-align: middle;\n",
       "    }\n",
       "\n",
       "    .dataframe tbody tr th {\n",
       "        vertical-align: top;\n",
       "    }\n",
       "\n",
       "    .dataframe thead th {\n",
       "        text-align: right;\n",
       "    }\n",
       "</style>\n",
       "<table border=\"1\" class=\"dataframe\">\n",
       "  <thead>\n",
       "    <tr style=\"text-align: right;\">\n",
       "      <th></th>\n",
       "      <th>City</th>\n",
       "      <th>Lat</th>\n",
       "      <th>Lng</th>\n",
       "      <th>Max Temp</th>\n",
       "      <th>Humidity</th>\n",
       "      <th>Cloudiness</th>\n",
       "      <th>Wind Speed</th>\n",
       "      <th>Country</th>\n",
       "      <th>Date</th>\n",
       "    </tr>\n",
       "  </thead>\n",
       "  <tbody>\n",
       "    <tr>\n",
       "      <th>0</th>\n",
       "      <td>Qui Nhon</td>\n",
       "      <td>13.7667</td>\n",
       "      <td>109.2333</td>\n",
       "      <td>80.17</td>\n",
       "      <td>75</td>\n",
       "      <td>78</td>\n",
       "      <td>5.32</td>\n",
       "      <td>VN</td>\n",
       "      <td>1618531899</td>\n",
       "    </tr>\n",
       "    <tr>\n",
       "      <th>1</th>\n",
       "      <td>Mkushi</td>\n",
       "      <td>-13.6202</td>\n",
       "      <td>29.3939</td>\n",
       "      <td>57.70</td>\n",
       "      <td>83</td>\n",
       "      <td>96</td>\n",
       "      <td>4.65</td>\n",
       "      <td>ZM</td>\n",
       "      <td>1618531906</td>\n",
       "    </tr>\n",
       "    <tr>\n",
       "      <th>2</th>\n",
       "      <td>Avarua</td>\n",
       "      <td>-21.2078</td>\n",
       "      <td>-159.7750</td>\n",
       "      <td>84.20</td>\n",
       "      <td>65</td>\n",
       "      <td>14</td>\n",
       "      <td>10.36</td>\n",
       "      <td>CK</td>\n",
       "      <td>1618531913</td>\n",
       "    </tr>\n",
       "    <tr>\n",
       "      <th>3</th>\n",
       "      <td>Faanui</td>\n",
       "      <td>-16.4833</td>\n",
       "      <td>-151.7500</td>\n",
       "      <td>82.63</td>\n",
       "      <td>69</td>\n",
       "      <td>33</td>\n",
       "      <td>10.54</td>\n",
       "      <td>PF</td>\n",
       "      <td>1618531919</td>\n",
       "    </tr>\n",
       "    <tr>\n",
       "      <th>4</th>\n",
       "      <td>Bluff</td>\n",
       "      <td>-46.6000</td>\n",
       "      <td>168.3333</td>\n",
       "      <td>55.99</td>\n",
       "      <td>69</td>\n",
       "      <td>74</td>\n",
       "      <td>13.00</td>\n",
       "      <td>NZ</td>\n",
       "      <td>1618531926</td>\n",
       "    </tr>\n",
       "  </tbody>\n",
       "</table>\n",
       "</div>"
      ],
      "text/plain": [
       "       City      Lat       Lng  Max Temp  Humidity  Cloudiness  Wind Speed  \\\n",
       "0  Qui Nhon  13.7667  109.2333     80.17        75          78        5.32   \n",
       "1    Mkushi -13.6202   29.3939     57.70        83          96        4.65   \n",
       "2    Avarua -21.2078 -159.7750     84.20        65          14       10.36   \n",
       "3    Faanui -16.4833 -151.7500     82.63        69          33       10.54   \n",
       "4     Bluff -46.6000  168.3333     55.99        69          74       13.00   \n",
       "\n",
       "  Country        Date  \n",
       "0      VN  1618531899  \n",
       "1      ZM  1618531906  \n",
       "2      CK  1618531913  \n",
       "3      PF  1618531919  \n",
       "4      NZ  1618531926  "
      ]
     },
     "execution_count": 3,
     "metadata": {},
     "output_type": "execute_result"
    }
   ],
   "source": [
    "#getting the csv file created in weatherpy\n",
    "city_weather_data = pd.read_csv(\"../WeatherPy/output_data/formatted_cities.csv\")\n",
    "\n",
    "city_weather_data.head()"
   ]
  },
  {
   "cell_type": "markdown",
   "metadata": {},
   "source": [
    "# Humidity Heatmap"
   ]
  },
  {
   "cell_type": "code",
   "execution_count": null,
   "metadata": {},
   "outputs": [],
   "source": [
    "#configure gmaps\n",
    "gmaps.configure(api_key=google_apikey)"
   ]
  }
 ],
 "metadata": {
  "kernelspec": {
   "display_name": "Python 3",
   "language": "python",
   "name": "python3"
  },
  "language_info": {
   "codemirror_mode": {
    "name": "ipython",
    "version": 3
   },
   "file_extension": ".py",
   "mimetype": "text/x-python",
   "name": "python",
   "nbconvert_exporter": "python",
   "pygments_lexer": "ipython3",
   "version": "3.8.5"
  }
 },
 "nbformat": 4,
 "nbformat_minor": 4
}
