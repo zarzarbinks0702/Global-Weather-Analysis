{
 "cells": [
  {
   "cell_type": "markdown",
   "metadata": {},
   "source": [
    "# WeatherPy"
   ]
  },
  {
   "cell_type": "code",
   "execution_count": 8,
   "metadata": {},
   "outputs": [],
   "source": [
    "#import dependencies, setup, and other necessary items\n",
    "import matplotlib.pyplot as plt\n",
    "import pandas as pd\n",
    "import numpy as np\n",
    "import requests\n",
    "import time\n",
    "from scipy.stats import linregress\n",
    "from config import openweather_apikey\n",
    "from citipy import citipy\n",
    "\n",
    "#set the output file (CSV)\n",
    "output_data_file = \"output_data/cities.csv\"\n",
    "\n",
    "#range for latitudes and longitudes\n",
    "lat_range = (-90, 90)\n",
    "lng_range = (-180, 180)"
   ]
  },
  {
   "cell_type": "markdown",
   "metadata": {},
   "source": [
    "# Generate Cities List"
   ]
  },
  {
   "cell_type": "code",
   "execution_count": 14,
   "metadata": {},
   "outputs": [
    {
     "name": "stdout",
     "output_type": "stream",
     "text": [
      "Number of cities in list: 507\n"
     ]
    }
   ],
   "source": [
    "#lists to hold city data and latitude/longitude data\n",
    "lat_lngs = []\n",
    "cities = []\n",
    "\n",
    "#finding random latitudes and longitudes, then putting them together\n",
    "lats = np.random.uniform(lat_range[0], lat_range[1], size=1200)\n",
    "lngs = np.random.uniform(lng_range[0], lng_range[1], size=1200)\n",
    "lat_lngs = zip(lats, lngs)\n",
    "\n",
    "#finding the closest city to each lat/lng pair\n",
    "for lat_lng in lat_lngs:\n",
    "    city = citipy.nearest_city(lat_lng[0], lat_lng[1]).city_name\n",
    "    \n",
    "    #add city to list (if not there already)\n",
    "    if city not in cities:\n",
    "        cities.append(city)\n",
    "\n",
    "#make sure there are enought cities (500+)\n",
    "print(f\"Number of cities in list: {len(cities)}\")"
   ]
  },
  {
   "cell_type": "markdown",
   "metadata": {},
   "source": [
    "# Perform API Calls"
   ]
  },
  {
   "cell_type": "code",
   "execution_count": null,
   "metadata": {},
   "outputs": [],
   "source": [
    "#create a counter variable\n",
    "count = 1\n",
    "\n",
    "#creating a try loop in case the city doesn't exist in the api\n",
    "try:\n",
    "    #looping through cities in the cities list\n",
    "    for city in cities:\n",
    "        #using latitude and longitude to search for cities\n",
    "        city_url = f\"api.openweathermap.org/data/2.5/weather?lat={lat}&lon={lng}&appid={openweather_apikey}\""
   ]
  }
 ],
 "metadata": {
  "kernelspec": {
   "display_name": "Python 3",
   "language": "python",
   "name": "python3"
  },
  "language_info": {
   "codemirror_mode": {
    "name": "ipython",
    "version": 3
   },
   "file_extension": ".py",
   "mimetype": "text/x-python",
   "name": "python",
   "nbconvert_exporter": "python",
   "pygments_lexer": "ipython3",
   "version": "3.8.5"
  }
 },
 "nbformat": 4,
 "nbformat_minor": 4
}
